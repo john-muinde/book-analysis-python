{
 "cells": [
  {
   "cell_type": "code",
   "execution_count": null,
   "metadata": {
    "vscode": {
     "languageId": "plaintext"
    }
   },
   "outputs": [],
   "source": [
    "# First, let's import necessary libraries and our analyzer\n",
    "import sys\n",
    "import pandas as pd\n",
    "import numpy as np\n",
    "import matplotlib.pyplot as plt\n",
    "import seaborn as sns\n",
    "from src.analyzer import BookAnalyzer\n",
    "from src.utils import plot_rating_distribution, create_author_summary"
   ]
  },
  {
   "cell_type": "code",
   "execution_count": null,
   "metadata": {
    "vscode": {
     "languageId": "plaintext"
    }
   },
   "outputs": [],
   "source": [
    "# Initialize our analyzer with the dataset\n",
    "analyzer = BookAnalyzer('data/books.csv')"
   ]
  },
  {
   "cell_type": "code",
   "execution_count": null,
   "metadata": {
    "vscode": {
     "languageId": "plaintext"
    }
   },
   "outputs": [],
   "source": [
    "# 1. Basic Dataset Analysis\n",
    "print(\"Basic Statistics:\")\n",
    "print(analyzer.get_basic_stats())"
   ]
  },
  {
   "cell_type": "code",
   "execution_count": null,
   "metadata": {
    "vscode": {
     "languageId": "plaintext"
    }
   },
   "outputs": [],
   "source": [
    "# 2. Language Distribution\n",
    "print(\"\\nLanguage Distribution:\")\n",
    "lang_dist = analyzer.get_language_distribution()\n",
    "plt.figure(figsize=(12, 6))\n",
    "lang_dist.head(10).plot(kind='bar')\n",
    "plt.title('Top 10 Languages in Dataset')\n",
    "plt.xlabel('Language Code')\n",
    "plt.ylabel('Number of Books')\n",
    "plt.tight_layout()\n",
    "plt.show()"
   ]
  },
  {
   "cell_type": "code",
   "execution_count": null,
   "metadata": {
    "vscode": {
     "languageId": "plaintext"
    }
   },
   "outputs": [],
   "source": [
    "# 3. Top Rated Books\n",
    "print(\"\\nTop Rated Books (with at least 1000 ratings):\")\n",
    "top_books = analyzer.get_top_rated_books(min_ratings=1000)\n",
    "print(top_books)"
   ]
  },
  {
   "cell_type": "code",
   "execution_count": null,
   "metadata": {
    "vscode": {
     "languageId": "plaintext"
    }
   },
   "outputs": [],
   "source": [
    "# 4. Most Prolific Authors\n",
    "print(\"\\nAuthors with Most Books:\")\n",
    "print(analyzer.get_most_prolific_authors())"
   ]
  },
  {
   "cell_type": "code",
   "execution_count": null,
   "metadata": {
    "vscode": {
     "languageId": "plaintext"
    }
   },
   "outputs": [],
   "source": [
    "# 5. Author Performance Analysis\n",
    "authors = ['J.K. Rowling', 'John Grisham', 'James Patterson', 'Lee Child']\n",
    "plt.figure(figsize=(15, 8))\n",
    "\n",
    "for author in authors:\n",
    "    perf = analyzer.analyze_author_performance(author)\n",
    "    if not perf.empty:\n",
    "        plt.plot(perf['publication_date'], perf['average_rating'], \n",
    "                marker='o', label=author)\n",
    "\n",
    "plt.title('Author Ratings Over Time')\n",
    "plt.xlabel('Publication Date')\n",
    "plt.ylabel('Average Rating')\n",
    "plt.legend()\n",
    "plt.grid(True)\n",
    "plt.show()"
   ]
  },
  {
   "cell_type": "code",
   "execution_count": null,
   "metadata": {
    "vscode": {
     "languageId": "plaintext"
    }
   },
   "outputs": [],
   "source": [
    "# 6. Top Rated Authors\n",
    "print(\"\\nTop Rated Authors (minimum 3 books):\")\n",
    "print(analyzer.get_top_authors_by_rating())"
   ]
  },
  {
   "cell_type": "code",
   "execution_count": null,
   "metadata": {
    "vscode": {
     "languageId": "plaintext"
    }
   },
   "outputs": [],
   "source": [
    "# 7. Correlation Analysis\n",
    "# Ratings vs Reviews\n",
    "plt.figure(figsize=(12, 5))\n",
    "plt.subplot(1, 2, 1)\n",
    "analyzer.plot_ratings_reviews_correlation()\n",
    "plt.subplot(1, 2, 2)\n",
    "analyzer.plot_pages_ratings_correlation()\n",
    "plt.tight_layout()\n",
    "plt.show()"
   ]
  },
  {
   "cell_type": "code",
   "execution_count": null,
   "metadata": {
    "vscode": {
     "languageId": "plaintext"
    }
   },
   "outputs": [],
   "source": [
    "# 8. Book Recommendations\n",
    "print(\"\\nBook Recommendations based on J.K. Rowling:\")\n",
    "recommendations = analyzer.recommend_books('J.K. Rowling')\n",
    "print(recommendations)"
   ]
  },
  {
   "cell_type": "code",
   "execution_count": null,
   "metadata": {
    "vscode": {
     "languageId": "plaintext"
    }
   },
   "outputs": [],
   "source": [
    "# Example of searching by book title\n",
    "print(\"\\nBook Recommendations based on 'The Hobbit':\")\n",
    "recommendations = analyzer.recommend_books('The Hobbit', attribute='title')\n",
    "print(recommendations)"
   ]
  }
 ],
 "metadata": {
  "language_info": {
   "name": "python"
  }
 },
 "nbformat": 4,
 "nbformat_minor": 2
}
